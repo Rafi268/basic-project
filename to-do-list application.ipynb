{
  "nbformat": 4,
  "nbformat_minor": 0,
  "metadata": {
    "colab": {
      "provenance": [],
      "authorship_tag": "ABX9TyMQX7ESGqdT5VRSIPYyqRaE",
      "include_colab_link": true
    },
    "kernelspec": {
      "name": "python3",
      "display_name": "Python 3"
    },
    "language_info": {
      "name": "python"
    }
  },
  "cells": [
    {
      "cell_type": "markdown",
      "metadata": {
        "id": "view-in-github",
        "colab_type": "text"
      },
      "source": [
        "<a href=\"https://colab.research.google.com/github/Rafi268/basic-project/blob/main/to-do-list%20application.ipynb\" target=\"_parent\"><img src=\"https://colab.research.google.com/assets/colab-badge.svg\" alt=\"Open In Colab\"/></a>"
      ]
    },
    {
      "cell_type": "code",
      "source": [
        "tasks = []\n",
        "\n",
        "# Add a task\n",
        "def addTask():\n",
        "  task = input(\"Please enter a task: \")\n",
        "  tasks.append(task)\n",
        "  print(f\"Task '{task}' added to the list.\")\n",
        "\n",
        "# List of tasks\n",
        "def listTasks():\n",
        "  if not tasks:\n",
        "    print(\"There are no tasks currently.\")\n",
        "  else:\n",
        "    print(\"Current Tasks:\")\n",
        "    for index, task in enumerate(tasks):\n",
        "      print(f\"Task #{index}. {task}\")\n",
        "\n",
        "# Delete task\n",
        "def deleteTask():\n",
        "  listTasks()\n",
        "  try:\n",
        "    taskToDelete = int(input(\"Enter the # to delete: \"))\n",
        "    if taskToDelete >= 0 and taskToDelete < len(tasks):\n",
        "      tasks.pop(taskToDelete)\n",
        "      print(f\"Task {taskToDelete} has been removed.\")\n",
        "    else:\n",
        "      print(f\"Task #{taskToDelete} was not found.\")\n",
        "  except:\n",
        "    print(\"Invalid input.\")\n",
        "\n",
        "\n",
        "if __name__ == \"__main__\":\n",
        "  ### Create a loop to run the application\n",
        "  print(\"Welcome to the to do list application :)\")\n",
        "  while True:\n",
        "    print(\"\\n\")\n",
        "    print(\"Please select one of the following options\")\n",
        "    print(\"------------------------------------------\")\n",
        "    print(\"1. Add a new task\")\n",
        "    print(\"2. Delete a task\")\n",
        "    print(\"3. List tasks\")\n",
        "    print(\"4. Quit\")\n",
        "\n",
        "    choice = input(\"Enter your choice: \")\n",
        "\n",
        "    if (choice == \"1\"):\n",
        "      addTask()\n",
        "    elif (choice == \"2\"):\n",
        "      deleteTask()\n",
        "    elif (choice == \"3\"):\n",
        "      listTasks()\n",
        "    elif (choice == \"4\"):\n",
        "      break\n",
        "    else:\n",
        "      print(\"Invalid input. Please try again.\")\n",
        "\n",
        "  print(\"This is my final Output\")\n"
      ],
      "metadata": {
        "colab": {
          "base_uri": "https://localhost:8080/"
        },
        "id": "lIAiEDtkMmMK",
        "outputId": "64e4a256-be8f-40a0-abaf-301287f9d8fb"
      },
      "execution_count": 1,
      "outputs": [
        {
          "output_type": "stream",
          "name": "stdout",
          "text": [
            "Welcome to the to do list application :)\n",
            "\n",
            "\n",
            "Please select one of the following options\n",
            "------------------------------------------\n",
            "1. Add a new task\n",
            "2. Delete a task\n",
            "3. List tasks\n",
            "4. Quit\n",
            "Enter your choice: 1\n",
            "Please enter a task: 18\n",
            "Task '18' added to the list.\n",
            "\n",
            "\n",
            "Please select one of the following options\n",
            "------------------------------------------\n",
            "1. Add a new task\n",
            "2. Delete a task\n",
            "3. List tasks\n",
            "4. Quit\n",
            "Enter your choice: 2\n",
            "Current Tasks:\n",
            "Task #0. 18\n",
            "Enter the # to delete: 0\n",
            "Task 0 has been removed.\n",
            "\n",
            "\n",
            "Please select one of the following options\n",
            "------------------------------------------\n",
            "1. Add a new task\n",
            "2. Delete a task\n",
            "3. List tasks\n",
            "4. Quit\n",
            "Enter your choice: 3\n",
            "There are no tasks currently.\n",
            "\n",
            "\n",
            "Please select one of the following options\n",
            "------------------------------------------\n",
            "1. Add a new task\n",
            "2. Delete a task\n",
            "3. List tasks\n",
            "4. Quit\n",
            "Enter your choice: 4\n",
            "This is my final Output\n"
          ]
        }
      ]
    },
    {
      "cell_type": "code",
      "execution_count": null,
      "metadata": {
        "id": "mCjm8zjSMP1S"
      },
      "outputs": [],
      "source": []
    }
  ]
}