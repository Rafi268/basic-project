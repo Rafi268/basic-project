{
  "nbformat": 4,
  "nbformat_minor": 0,
  "metadata": {
    "colab": {
      "provenance": [],
      "authorship_tag": "ABX9TyN+hEY/55225Rziir+89lEf",
      "include_colab_link": true
    },
    "kernelspec": {
      "name": "python3",
      "display_name": "Python 3"
    },
    "language_info": {
      "name": "python"
    }
  },
  "cells": [
    {
      "cell_type": "markdown",
      "metadata": {
        "id": "view-in-github",
        "colab_type": "text"
      },
      "source": [
        "<a href=\"https://colab.research.google.com/github/Rafi268/basic-project/blob/main/Password%20Generator.ipynb\" target=\"_parent\"><img src=\"https://colab.research.google.com/assets/colab-badge.svg\" alt=\"Open In Colab\"/></a>"
      ]
    },
    {
      "cell_type": "code",
      "execution_count": 1,
      "metadata": {
        "colab": {
          "base_uri": "https://localhost:8080/"
        },
        "id": "lJnQ4izoRbDi",
        "outputId": "72f9b933-741a-4cb0-ef75-97715734411c"
      },
      "outputs": [
        {
          "output_type": "stream",
          "name": "stdout",
          "text": [
            "How many passwords do you want to generate? 15\n",
            "Enter the minimum length of passwords: 5\n",
            "Password 1: f7w%E\"7e\n",
            "Password 2: J2aR\"M]|X\n",
            "Password 3: mTi7*5irB\n",
            "Password 4: M-tKy2\n",
            "Password 5: Qr&#6\n",
            "Password 6: 8JTp:\n",
            "Password 7: 6Z6*e\n",
            "Password 8: =j2|rsMx\n",
            "Password 9: enP-Sr0,}2\n",
            "Password 10: fL,.1>q4\n",
            "Password 11: mb:8/9O}nv\n",
            "Password 12: zFy'A8H0\n",
            "Password 13: gU-9_\n",
            "Password 14: UL2}O3o^\n",
            "Password 15: a!WnF7\n"
          ]
        }
      ],
      "source": [
        "import random\n",
        "import string\n",
        "\n",
        "def generate_password(length=12):\n",
        "    \"\"\"Generate a strong and secure password.\"\"\"\n",
        "    lowercase_letters = string.ascii_lowercase\n",
        "    uppercase_letters = string.ascii_uppercase\n",
        "    digits = string.digits\n",
        "    special_characters = string.punctuation\n",
        "\n",
        "    # Combine all character sets\n",
        "    all_characters = lowercase_letters + uppercase_letters + digits + special_characters\n",
        "\n",
        "    # Ensure at least one character from each set\n",
        "    password = random.choice(lowercase_letters)\n",
        "    password += random.choice(uppercase_letters)\n",
        "    password += random.choice(digits)\n",
        "    password += random.choice(special_characters)\n",
        "\n",
        "    # Generate remaining characters\n",
        "    for _ in range(length - 4):\n",
        "        password += random.choice(all_characters)\n",
        "\n",
        "    # Shuffle the password to increase randomness\n",
        "    password_list = list(password)\n",
        "    random.shuffle(password_list)\n",
        "    password = ''.join(password_list)\n",
        "\n",
        "    return password\n",
        "\n",
        "def generate_multiple_passwords(num_passwords, min_length=12):\n",
        "    \"\"\"Generate multiple strong and secure passwords.\"\"\"\n",
        "    passwords = []\n",
        "    for _ in range(num_passwords):\n",
        "        length = random.randint(min_length, min_length + 5)  # Randomize length slightly\n",
        "        password = generate_password(length)\n",
        "        passwords.append(password)\n",
        "    return passwords\n",
        "\n",
        "if __name__ == \"__main__\":\n",
        "    num_passwords = int(input(\"How many passwords do you want to generate? \"))\n",
        "    min_length = int(input(\"Enter the minimum length of passwords: \"))\n",
        "    passwords = generate_multiple_passwords(num_passwords, min_length)\n",
        "\n",
        "    # Output the passwords\n",
        "    for i, password in enumerate(passwords, start=1):\n",
        "        print(f\"Password {i}: {password}\")\n"
      ]
    }
  ]
}